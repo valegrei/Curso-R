{
 "cells": [
  {
   "cell_type": "markdown",
   "metadata": {},
   "source": [
    "# Tutorial de Markdown"
   ]
  },
  {
   "cell_type": "markdown",
   "metadata": {},
   "source": [
    "## Cursiva y negrita"
   ]
  },
  {
   "cell_type": "markdown",
   "metadata": {},
   "source": [
    "#### Usando \"_\" para formatear el texto con cursiva:\n",
    "\n",
    "_Writing in Markdown is not that hard!_"
   ]
  },
  {
   "cell_type": "markdown",
   "metadata": {},
   "source": [
    "#### Usando \"\\*\\*\" para formatear texto con negrita:\n",
    "\n",
    "**I will complete these lessons!**"
   ]
  },
  {
   "cell_type": "markdown",
   "metadata": {},
   "source": [
    "#### Usando cursiva y negrita en la misma linea:\n",
    "\n",
    "_\"Of course,\"_ she whispered. Then, she shouted: \"All I need is **a little moxie!**\""
   ]
  },
  {
   "cell_type": "markdown",
   "metadata": {},
   "source": [
    "#### Usando cursiva y negrita a la vez:\n",
    "\n",
    "If you're thinking to yourself, **_This is unbelievable_**, you'd probably be right."
   ]
  },
  {
   "cell_type": "markdown",
   "metadata": {},
   "source": [
    "## Headers"
   ]
  },
  {
   "cell_type": "markdown",
   "metadata": {},
   "source": [
    "#### Ejemplos de tipos de headers usando \"#\":\n",
    "# Header one\n",
    "## Header two\n",
    "### Header three\n",
    "#### Header four\n",
    "##### Header five\n",
    "###### Header six"
   ]
  },
  {
   "cell_type": "markdown",
   "metadata": {},
   "source": [
    "#### Aplicando cursiva dentro de un header:\n",
    "#### Colombian Symbolism in _One Hundred Years of Solitude_\n",
    "\n",
    "Here's some words about the book _One Hundred Years..._."
   ]
  },
  {
   "cell_type": "markdown",
   "metadata": {},
   "source": [
    "## Links"
   ]
  },
  {
   "cell_type": "markdown",
   "metadata": {},
   "source": [
    "#### Se utiliza \"[]\" para el texto del hipervínculo, y \"()\" para el enlace web:\n",
    "\n",
    "[Search for it.](http://www.google.com)"
   ]
  },
  {
   "cell_type": "markdown",
   "metadata": {},
   "source": [
    "#### Formateando en negrita el texto del enlace para poner mayor énfasis:\n",
    "\n",
    "You're [**really, really**](http://www.dailykitten.com) going to want to see this."
   ]
  },
  {
   "cell_type": "markdown",
   "metadata": {},
   "source": [
    "#### Colocando un enlace en un header:\n",
    "\n",
    "#### The Latest News from [the BBC](http://www.bbc.com/news)"
   ]
  },
  {
   "cell_type": "markdown",
   "metadata": {},
   "source": [
    "#### Usando referencias en el mismo documento, \"[][]\" y \"[]:\":\n",
    "\n",
    "Do you want to [see something fun][a fun place]?\n",
    "\n",
    "Well, do I have [the website for you][another fun place]!\n",
    "\n",
    "\n",
    "[a fun place]: http://www.zombo.com\n",
    "[another fun place]: http://www.stumbleupon.com"
   ]
  },
  {
   "cell_type": "markdown",
   "metadata": {},
   "source": [
    "## Imágenes"
   ]
  },
  {
   "cell_type": "markdown",
   "metadata": {},
   "source": [
    "#### Para mostrar una imágen en Markdown, se antepone un \"!\" antes de un enlace \"\\[\\]\\(\\)\":\n",
    "\n",
    "![A representation of Octdrey Catburn](http://octodex.github.com/images/octdrey-catburn.jpg)"
   ]
  },
  {
   "cell_type": "markdown",
   "metadata": {},
   "source": [
    "### Usando referencias de la misma forma con los enlaces:\n",
    "![The first father][First Father]\n",
    "\n",
    "![The second first father][Second Father]\n",
    "\n",
    "[First Father]: http://octodex.github.com/images/founding-father.jpg\n",
    "[Second Father]: http://octodex.github.com/images/foundingfather_v2.png"
   ]
  },
  {
   "cell_type": "markdown",
   "metadata": {},
   "source": [
    "## Citas"
   ]
  },
  {
   "cell_type": "markdown",
   "metadata": {},
   "source": [
    "#### Para una cita se antepone \">\" a la linea que se desea citar:\n",
    "\n",
    "I read this interesting quote the other day:\n",
    "\n",
    ">\"Her eyes had called him and his soul had leaped at the call. To live, to err, to fall, to triumph, to recreate life out of life!\""
   ]
  },
  {
   "cell_type": "markdown",
   "metadata": {},
   "source": [
    "#### Para citas de multiples párrafos, se colo \">\" a cada linea de texto.\n",
    "\n",
    "\n",
    ">Once upon a time and a very good time it was there was a moocow coming down along the road and this moocow that was coming down along the road met a nicens little boy named baby tuckoo...\n",
    ">\n",
    ">His father told him that story: his father looked at him through a glass: he had a hairy face.\n",
    ">\n",
    ">He was baby tuckoo. The moocow came down the road where Betty Byrne lived: she sold lemon platt."
   ]
  },
  {
   "cell_type": "markdown",
   "metadata": {},
   "source": [
    "#### Formateando en cursiva dentro de una cita:\n",
    "\n",
    ">He left her quickly, fearing that her intimacy might turn to jibing and wishing to be out of the way before she offered her ware to another, a tourist from England or a student of Trinity. Grafton Street, along which he walked, prolonged that moment of discouraged poverty. In the roadway at the head of the street a slab was set to the memory of Wolfe Tone and he remembered having been present with his father at its laying. He remembered with bitterness that scene of tawdry tribute. There were four French delegates in a brake and one, a plump smiling young man, held, wedged on a stick, a card on which were printed the words: _VIVE L'IRLANDE_!"
   ]
  },
  {
   "cell_type": "markdown",
   "metadata": {},
   "source": [
    "## Listas\n"
   ]
  },
  {
   "cell_type": "markdown",
   "metadata": {},
   "source": [
    "#### Para una lista sin orden, se antepone \"*\" a cada linea:\n",
    "\n",
    "* Flour\n",
    "* Cheese\n",
    "* Tomatoes\n"
   ]
  },
  {
   "cell_type": "markdown",
   "metadata": {},
   "source": [
    "#### Para listas ordeanadas, se antepone el número seguido de un punto:\n",
    "\n",
    "1. Cut the cheese\n",
    "2. Slice the tomatoes\n",
    "3. Rub the tomatoes in flour"
   ]
  },
  {
   "cell_type": "markdown",
   "metadata": {},
   "source": [
    "#### Usando cursiva en una lista:\n",
    "\n",
    "* Azalea (_Ericaceae Rhododendron_)\n",
    "* Chrysanthemum (_Anthemideae Chrysanthemum_)\n",
    "* Dahlia (_Coreopsideae Dahlia_)"
   ]
  },
  {
   "cell_type": "markdown",
   "metadata": {},
   "source": [
    "#### Sublistas\n",
    "\n",
    "* Calculus\n",
    " * A professor\n",
    " * Has no hair\n",
    " * Often wears green\n",
    "* Castafiore\n",
    " * An opera singer\n",
    " * Has white hair\n",
    " * Is possibly mentally unwell"
   ]
  },
  {
   "cell_type": "markdown",
   "metadata": {},
   "source": [
    "#### Indentación:\n",
    "\n",
    "1. Cut the cheese\n",
    " \n",
    " Make sure that the cheese is cut into little triangles.\n",
    " \n",
    "2. Slice the tomatoes\n",
    " \n",
    " Be careful when holding the knife.\n",
    " \n",
    " For more help on tomato slicing, see Thomas Jefferson's seminal essay _Tom Ate Those_."
   ]
  },
  {
   "cell_type": "markdown",
   "metadata": {},
   "source": [
    "## Párrafos"
   ]
  },
  {
   "cell_type": "markdown",
   "metadata": {},
   "source": [
    "#### Se colocan dos espacios para realizar un salto de línea:\n",
    "\n",
    "We pictured the meek mild creatures where  \n",
    "They dwelt in their strawy pen,  \n",
    "Nor did it occur to one of us there  \n",
    "To doubt they were kneeling then."
   ]
  },
  {
   "cell_type": "markdown",
   "metadata": {},
   "source": [
    "#### Párrafos en listas:\n",
    "\n",
    "1. Crack three eggs over a bowl.  \n",
    " Now, you're going to want to crack the eggs in such a way that you don't make a mess.  \n",
    " If you _do_ make a mess, use a towel to clean it up!\n",
    "\n",
    "2. Pour a gallon of milk into the bowl.  \n",
    " Basically, take the same guidance as above: don't be messy, but if you are, clean it up!"
   ]
  },
  {
   "cell_type": "code",
   "execution_count": null,
   "metadata": {
    "collapsed": true
   },
   "outputs": [],
   "source": []
  }
 ],
 "metadata": {
  "kernelspec": {
   "display_name": "Bash",
   "language": "bash",
   "name": "bash"
  },
  "language_info": {
   "codemirror_mode": "shell",
   "file_extension": ".sh",
   "mimetype": "text/x-sh",
   "name": "bash"
  }
 },
 "nbformat": 4,
 "nbformat_minor": 2
}
